{
 "cells": [
  {
   "cell_type": "code",
   "execution_count": 2,
   "metadata": {},
   "outputs": [],
   "source": [
    "import numpy as np\n",
    "import matplotlib.pyplot as plt\n",
    "\n",
    "from states import HEALTHY, INFECTED, SUSCEPTIBLE, CURED, DEAD, \\\n",
    "    INFANT_DEATH, CHILD_DEATH, MATERNAL_DEATH, HBV_DEATH"
   ]
  },
  {
   "cell_type": "code",
   "execution_count": 5,
   "metadata": {},
   "outputs": [],
   "source": [
    "import cPickle\n",
    "\n",
    "with open('config_1/collective_mother_stats.pkl', 'rb') as f:\n",
    "    mother_stats = cPickle.load(f)\n",
    "\n",
    "with open('config_1/collective_child_stats.pkl', 'rb') as f:\n",
    "    children_stats = cPickle.load(f)"
   ]
  },
  {
   "cell_type": "code",
   "execution_count": 6,
   "metadata": {},
   "outputs": [],
   "source": [
    "def plot_yearly_stat(yearly_stats, xlabels, ylabels, title):\n",
    "    \n",
    "    fig, ax = plt.subplots(figsize=(14,5))\n",
    "    x_ticks = len(years)\n",
    "    idx = np.arange(x_ticks)\n",
    "    width = 0.35\n",
    "\n",
    "    for idx in range(0, yearly_stats.shape[0]):\n",
    "        ax.plot(xlabels, yearly_stats[idx,:], label=ylabels[idx] )\n",
    "    \n",
    "    ax.set_xlabel('years')\n",
    "    ax.set_ylabel('population')\n",
    "    ax.legend(loc='best')\n",
    "    fig.suptitle(title)\n",
    "    plt.show()"
   ]
  },
  {
   "cell_type": "code",
   "execution_count": 24,
   "metadata": {},
   "outputs": [
    {
     "data": {
      "text/plain": [
       "{'boxes': [<matplotlib.lines.Line2D at 0x7f5e5c94b8d0>,\n",
       "  <matplotlib.lines.Line2D at 0x7f5e5c8df050>,\n",
       "  <matplotlib.lines.Line2D at 0x7f5e5c8eda90>,\n",
       "  <matplotlib.lines.Line2D at 0x7f5e5c905550>,\n",
       "  <matplotlib.lines.Line2D at 0x7f5e5c89d050>,\n",
       "  <matplotlib.lines.Line2D at 0x7f5e5c8a9b90>,\n",
       "  <matplotlib.lines.Line2D at 0x7f5e5c8c0610>,\n",
       "  <matplotlib.lines.Line2D at 0x7f5e5c8d90d0>,\n",
       "  <matplotlib.lines.Line2D at 0x7f5e5c865b50>,\n",
       "  <matplotlib.lines.Line2D at 0x7f5e5c87e610>,\n",
       "  <matplotlib.lines.Line2D at 0x7f5e5c8940d0>],\n",
       " 'caps': [<matplotlib.lines.Line2D at 0x7f5e5c953150>,\n",
       "  <matplotlib.lines.Line2D at 0x7f5e5c953510>,\n",
       "  <matplotlib.lines.Line2D at 0x7f5e5c8dfbd0>,\n",
       "  <matplotlib.lines.Line2D at 0x7f5e5c8dff90>,\n",
       "  <matplotlib.lines.Line2D at 0x7f5e5c8f8690>,\n",
       "  <matplotlib.lines.Line2D at 0x7f5e5c8f8a50>,\n",
       "  <matplotlib.lines.Line2D at 0x7f5e5c910150>,\n",
       "  <matplotlib.lines.Line2D at 0x7f5e5c910510>,\n",
       "  <matplotlib.lines.Line2D at 0x7f5e5c89dbd0>,\n",
       "  <matplotlib.lines.Line2D at 0x7f5e5c89df90>,\n",
       "  <matplotlib.lines.Line2D at 0x7f5e5c8b5750>,\n",
       "  <matplotlib.lines.Line2D at 0x7f5e5c8b5b10>,\n",
       "  <matplotlib.lines.Line2D at 0x7f5e5c8cd210>,\n",
       "  <matplotlib.lines.Line2D at 0x7f5e5c8cd5d0>,\n",
       "  <matplotlib.lines.Line2D at 0x7f5e5c8d9c90>,\n",
       "  <matplotlib.lines.Line2D at 0x7f5e5c865090>,\n",
       "  <matplotlib.lines.Line2D at 0x7f5e5c870750>,\n",
       "  <matplotlib.lines.Line2D at 0x7f5e5c870b10>,\n",
       "  <matplotlib.lines.Line2D at 0x7f5e5c889210>,\n",
       "  <matplotlib.lines.Line2D at 0x7f5e5c8895d0>,\n",
       "  <matplotlib.lines.Line2D at 0x7f5e5c894c90>,\n",
       "  <matplotlib.lines.Line2D at 0x7f5e5c822090>],\n",
       " 'fliers': [<matplotlib.lines.Line2D at 0x7f5e5c953c90>,\n",
       "  <matplotlib.lines.Line2D at 0x7f5e5c8ed750>,\n",
       "  <matplotlib.lines.Line2D at 0x7f5e5c905210>,\n",
       "  <matplotlib.lines.Line2D at 0x7f5e5c910c90>,\n",
       "  <matplotlib.lines.Line2D at 0x7f5e5c8a9750>,\n",
       "  <matplotlib.lines.Line2D at 0x7f5e5c8c02d0>,\n",
       "  <matplotlib.lines.Line2D at 0x7f5e5c8cdd50>,\n",
       "  <matplotlib.lines.Line2D at 0x7f5e5c865810>,\n",
       "  <matplotlib.lines.Line2D at 0x7f5e5c87e2d0>,\n",
       "  <matplotlib.lines.Line2D at 0x7f5e5c889d50>,\n",
       "  <matplotlib.lines.Line2D at 0x7f5e5c822810>],\n",
       " 'means': [],\n",
       " 'medians': [<matplotlib.lines.Line2D at 0x7f5e5c9538d0>,\n",
       "  <matplotlib.lines.Line2D at 0x7f5e5c8ed390>,\n",
       "  <matplotlib.lines.Line2D at 0x7f5e5c8f8e10>,\n",
       "  <matplotlib.lines.Line2D at 0x7f5e5c9108d0>,\n",
       "  <matplotlib.lines.Line2D at 0x7f5e5c8a9390>,\n",
       "  <matplotlib.lines.Line2D at 0x7f5e5c8b5ed0>,\n",
       "  <matplotlib.lines.Line2D at 0x7f5e5c8cd990>,\n",
       "  <matplotlib.lines.Line2D at 0x7f5e5c865450>,\n",
       "  <matplotlib.lines.Line2D at 0x7f5e5c870ed0>,\n",
       "  <matplotlib.lines.Line2D at 0x7f5e5c889990>,\n",
       "  <matplotlib.lines.Line2D at 0x7f5e5c822450>],\n",
       " 'whiskers': [<matplotlib.lines.Line2D at 0x7f5e5c94b990>,\n",
       "  <matplotlib.lines.Line2D at 0x7f5e5c94bd50>,\n",
       "  <matplotlib.lines.Line2D at 0x7f5e5c8df450>,\n",
       "  <matplotlib.lines.Line2D at 0x7f5e5c8df810>,\n",
       "  <matplotlib.lines.Line2D at 0x7f5e5c8eded0>,\n",
       "  <matplotlib.lines.Line2D at 0x7f5e5c8f82d0>,\n",
       "  <matplotlib.lines.Line2D at 0x7f5e5c905990>,\n",
       "  <matplotlib.lines.Line2D at 0x7f5e5c905d50>,\n",
       "  <matplotlib.lines.Line2D at 0x7f5e5c89d450>,\n",
       "  <matplotlib.lines.Line2D at 0x7f5e5c89d810>,\n",
       "  <matplotlib.lines.Line2D at 0x7f5e5c8a9f90>,\n",
       "  <matplotlib.lines.Line2D at 0x7f5e5c8b5390>,\n",
       "  <matplotlib.lines.Line2D at 0x7f5e5c8c0a50>,\n",
       "  <matplotlib.lines.Line2D at 0x7f5e5c8c0e10>,\n",
       "  <matplotlib.lines.Line2D at 0x7f5e5c8d9510>,\n",
       "  <matplotlib.lines.Line2D at 0x7f5e5c8d98d0>,\n",
       "  <matplotlib.lines.Line2D at 0x7f5e5c865f90>,\n",
       "  <matplotlib.lines.Line2D at 0x7f5e5c870390>,\n",
       "  <matplotlib.lines.Line2D at 0x7f5e5c87ea50>,\n",
       "  <matplotlib.lines.Line2D at 0x7f5e5c87ee10>,\n",
       "  <matplotlib.lines.Line2D at 0x7f5e5c894510>,\n",
       "  <matplotlib.lines.Line2D at 0x7f5e5c8948d0>]}"
      ]
     },
     "execution_count": 24,
     "metadata": {},
     "output_type": "execute_result"
    },
    {
     "data": {
      "image/png": "[encoded data removed]",
      "text/plain": [
       "<Figure size 432x288 with 1 Axes>"
      ]
     },
     "metadata": {
      "needs_background": "light"
     },
     "output_type": "display_data"
    }
   ],
   "source": [
    "mother_status = [MATERNAL_DEATH] #[HEALTHY, SUSCEPTIBLE, INFECTED, CURED, DEAD, MATERNAL_DEATH]\n",
    "years = [i for i in range(1,13)]\n",
    "\n",
    "yearly_stats = list() #np.zeros((len(mother_status), len(years)))\n",
    "for m_idx, m in enumerate(mother_status):\n",
    "    for y_idx, y in enumerate(years):\n",
    "        yearly_stats.append(mother_stats[m][y][1:])\n",
    "\n",
    "fig, ax = plt.subplots()\n",
    "ax.boxplot(yearly_stats[1:])\n",
    "\n"
   ]
  },
  {
   "cell_type": "code",
   "execution_count": 29,
   "metadata": {},
   "outputs": [
    {
     "data": {
      "text/plain": [
       "{'boxes': [<matplotlib.lines.Line2D at 0x7f5e5c380a90>,\n",
       "  <matplotlib.lines.Line2D at 0x7f5e5c38f1d0>,\n",
       "  <matplotlib.lines.Line2D at 0x7f5e5c31bc50>,\n",
       "  <matplotlib.lines.Line2D at 0x7f5e5c332710>,\n",
       "  <matplotlib.lines.Line2D at 0x7f5e5c3491d0>,\n",
       "  <matplotlib.lines.Line2D at 0x7f5e5c354c50>,\n",
       "  <matplotlib.lines.Line2D at 0x7f5e5c2ec710>,\n",
       "  <matplotlib.lines.Line2D at 0x7f5e5c3021d0>,\n",
       "  <matplotlib.lines.Line2D at 0x7f5e5c30fc50>,\n",
       "  <matplotlib.lines.Line2D at 0x7f5e5c2a8710>,\n",
       "  <matplotlib.lines.Line2D at 0x7f5e5c2c01d0>],\n",
       " 'caps': [<matplotlib.lines.Line2D at 0x7f5e5c385310>,\n",
       "  <matplotlib.lines.Line2D at 0x7f5e5c3856d0>,\n",
       "  <matplotlib.lines.Line2D at 0x7f5e5c38fd90>,\n",
       "  <matplotlib.lines.Line2D at 0x7f5e5c31b190>,\n",
       "  <matplotlib.lines.Line2D at 0x7f5e5c327850>,\n",
       "  <matplotlib.lines.Line2D at 0x7f5e5c327c10>,\n",
       "  <matplotlib.lines.Line2D at 0x7f5e5c33e310>,\n",
       "  <matplotlib.lines.Line2D at 0x7f5e5c33e6d0>,\n",
       "  <matplotlib.lines.Line2D at 0x7f5e5c349d90>,\n",
       "  <matplotlib.lines.Line2D at 0x7f5e5c354190>,\n",
       "  <matplotlib.lines.Line2D at 0x7f5e5c2df850>,\n",
       "  <matplotlib.lines.Line2D at 0x7f5e5c2dfc10>,\n",
       "  <matplotlib.lines.Line2D at 0x7f5e5c2f8310>,\n",
       "  <matplotlib.lines.Line2D at 0x7f5e5c2f86d0>,\n",
       "  <matplotlib.lines.Line2D at 0x7f5e5c302d90>,\n",
       "  <matplotlib.lines.Line2D at 0x7f5e5c30f190>,\n",
       "  <matplotlib.lines.Line2D at 0x7f5e5c29c850>,\n",
       "  <matplotlib.lines.Line2D at 0x7f5e5c29cc10>,\n",
       "  <matplotlib.lines.Line2D at 0x7f5e5c2b3310>,\n",
       "  <matplotlib.lines.Line2D at 0x7f5e5c2b36d0>,\n",
       "  <matplotlib.lines.Line2D at 0x7f5e5c2c0d90>,\n",
       "  <matplotlib.lines.Line2D at 0x7f5e5c2cb190>],\n",
       " 'fliers': [<matplotlib.lines.Line2D at 0x7f5e5c385e50>,\n",
       "  <matplotlib.lines.Line2D at 0x7f5e5c31b910>,\n",
       "  <matplotlib.lines.Line2D at 0x7f5e5c3323d0>,\n",
       "  <matplotlib.lines.Line2D at 0x7f5e5c33ee50>,\n",
       "  <matplotlib.lines.Line2D at 0x7f5e5c354910>,\n",
       "  <matplotlib.lines.Line2D at 0x7f5e5c2ec3d0>,\n",
       "  <matplotlib.lines.Line2D at 0x7f5e5c2f8e50>,\n",
       "  <matplotlib.lines.Line2D at 0x7f5e5c30f910>,\n",
       "  <matplotlib.lines.Line2D at 0x7f5e5c2a83d0>,\n",
       "  <matplotlib.lines.Line2D at 0x7f5e5c2b3e50>,\n",
       "  <matplotlib.lines.Line2D at 0x7f5e5c2cb910>],\n",
       " 'means': [],\n",
       " 'medians': [<matplotlib.lines.Line2D at 0x7f5e5c385a90>,\n",
       "  <matplotlib.lines.Line2D at 0x7f5e5c31b550>,\n",
       "  <matplotlib.lines.Line2D at 0x7f5e5c327fd0>,\n",
       "  <matplotlib.lines.Line2D at 0x7f5e5c33ea90>,\n",
       "  <matplotlib.lines.Line2D at 0x7f5e5c354550>,\n",
       "  <matplotlib.lines.Line2D at 0x7f5e5c2dffd0>,\n",
       "  <matplotlib.lines.Line2D at 0x7f5e5c2f8a90>,\n",
       "  <matplotlib.lines.Line2D at 0x7f5e5c30f550>,\n",
       "  <matplotlib.lines.Line2D at 0x7f5e5c29cfd0>,\n",
       "  <matplotlib.lines.Line2D at 0x7f5e5c2b3a90>,\n",
       "  <matplotlib.lines.Line2D at 0x7f5e5c2cb550>],\n",
       " 'whiskers': [<matplotlib.lines.Line2D at 0x7f5e5c380b50>,\n",
       "  <matplotlib.lines.Line2D at 0x7f5e5c380f10>,\n",
       "  <matplotlib.lines.Line2D at 0x7f5e5c38f610>,\n",
       "  <matplotlib.lines.Line2D at 0x7f5e5c38f9d0>,\n",
       "  <matplotlib.lines.Line2D at 0x7f5e5c3270d0>,\n",
       "  <matplotlib.lines.Line2D at 0x7f5e5c327490>,\n",
       "  <matplotlib.lines.Line2D at 0x7f5e5c332b50>,\n",
       "  <matplotlib.lines.Line2D at 0x7f5e5c332f10>,\n",
       "  <matplotlib.lines.Line2D at 0x7f5e5c349610>,\n",
       "  <matplotlib.lines.Line2D at 0x7f5e5c3499d0>,\n",
       "  <matplotlib.lines.Line2D at 0x7f5e5c2df0d0>,\n",
       "  <matplotlib.lines.Line2D at 0x7f5e5c2df490>,\n",
       "  <matplotlib.lines.Line2D at 0x7f5e5c2ecb50>,\n",
       "  <matplotlib.lines.Line2D at 0x7f5e5c2ecf10>,\n",
       "  <matplotlib.lines.Line2D at 0x7f5e5c302610>,\n",
       "  <matplotlib.lines.Line2D at 0x7f5e5c3029d0>,\n",
       "  <matplotlib.lines.Line2D at 0x7f5e5c29c0d0>,\n",
       "  <matplotlib.lines.Line2D at 0x7f5e5c29c490>,\n",
       "  <matplotlib.lines.Line2D at 0x7f5e5c2a8b50>,\n",
       "  <matplotlib.lines.Line2D at 0x7f5e5c2a8f10>,\n",
       "  <matplotlib.lines.Line2D at 0x7f5e5c2c0610>,\n",
       "  <matplotlib.lines.Line2D at 0x7f5e5c2c09d0>]}"
      ]
     },
     "execution_count": 29,
     "metadata": {},
     "output_type": "execute_result"
    },
    {
     "data": {
      "image/png": "[encoded data removed]",
      "text/plain": [
       "<Figure size 432x288 with 1 Axes>"
      ]
     },
     "metadata": {
      "needs_background": "light"
     },
     "output_type": "display_data"
    }
   ],
   "source": [
    "children_status = [HBV_DEATH] #[HEALTHY, INFECTED,SUSCEPTIBLE,CURED, INFANT_DEATH, CHILD_DEATH, HBV_DEATH, DEAD]\n",
    "years = [i for i in range(1,13)]\n",
    "\n",
    "yearly_stats = list() #np.zeros((len(mother_status), len(years)))\n",
    "for m_idx, m in enumerate(children_status):\n",
    "    for y_idx, y in enumerate(years):\n",
    "        yearly_stats.append(children_stats[m][y][1:])\n",
    "\n",
    "fig, ax = plt.subplots()\n",
    "ax.boxplot(yearly_stats[1:])"
   ]
  },
  {
   "cell_type": "code",
   "execution_count": null,
   "metadata": {},
   "outputs": [],
   "source": []
  }
 ],
 "metadata": {
  "kernelspec": {
   "display_name": "Python 2",
   "language": "python",
   "name": "python2"
  },
  "language_info": {
   "codemirror_mode": {
    "name": "ipython",
    "version": 2
   },
   "file_extension": ".py",
   "mimetype": "text/x-python",
   "name": "python",
   "nbconvert_exporter": "python",
   "pygments_lexer": "ipython2",
   "version": "2.7.12"
  }
 },
 "nbformat": 4,
 "nbformat_minor": 2
}
